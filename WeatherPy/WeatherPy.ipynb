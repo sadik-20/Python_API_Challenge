{
 "cells": [
  {
   "cell_type": "markdown",
   "metadata": {},
   "source": [
    "# WeatherPy\n",
    "----\n",
    "\n",
    "#### Note\n",
    "* Instructions have been included for each segment. You do not have to follow them exactly, but they are included to help you think through the steps."
   ]
  },
  {
   "cell_type": "code",
   "execution_count": 1,
   "metadata": {
    "scrolled": true
   },
   "outputs": [],
   "source": [
    "# Dependencies and Setup\n",
    "import matplotlib.pyplot as plt\n",
    "import pandas as pd\n",
    "import numpy as np\n",
    "import requests\n",
    "import time\n",
    "import json\n",
    "import random\n",
    "from pprint import pprint\n",
    "from scipy.stats import linregress\n",
    "\n",
    "# Import API key\n",
    "from api_keys import weather_api_key\n",
    "\n",
    "# Incorporated citipy to determine city based on latitude and longitude\n",
    "from citipy import citipy\n",
    "\n",
    "# Output File (CSV)\n",
    "output_data_file = \"cities.csv\"\n",
    "\n",
    "np.random.seed(1)\n",
    "\n",
    "# Range of latitudes and longitudes\n",
    "lat_range = (-90, 90)\n",
    "lng_range = (-180, 180)"
   ]
  },
  {
   "cell_type": "markdown",
   "metadata": {},
   "source": [
    "## Generate Cities List"
   ]
  },
  {
   "cell_type": "code",
   "execution_count": 2,
   "metadata": {},
   "outputs": [
    {
     "data": {
      "text/plain": [
       "644"
      ]
     },
     "execution_count": 2,
     "metadata": {},
     "output_type": "execute_result"
    }
   ],
   "source": [
    "# List for holding lat_lngs and cities\n",
    "lat_lngs = []\n",
    "cities = []\n",
    "\n",
    "# Create a set of random lat and lng combinations\n",
    "lats = np.random.uniform(lat_range[0], lat_range[1], size=1500)\n",
    "lngs = np.random.uniform(lng_range[0], lng_range[1], size=1500)\n",
    "lat_lngs = zip(lats, lngs)\n",
    "\n",
    "# Identify nearest city for each lat, lng combination\n",
    "for lat_lng in lat_lngs:\n",
    "    city = citipy.nearest_city(lat_lng[0], lat_lng[1]).city_name\n",
    "    \n",
    "    # If the city is unique, then add it to a our cities list\n",
    "    if city not in cities:\n",
    "        cities.append(city)\n",
    "\n",
    "# Print the city count to confirm sufficient count\n",
    "len(cities)"
   ]
  },
  {
   "cell_type": "markdown",
   "metadata": {},
   "source": [
    "### Perform API Calls\n",
    "* Perform a weather check on each city using a series of successive API calls.\n",
    "* Include a print log of each city as it'sbeing processed (with the city number and city name).\n"
   ]
  },
  {
   "cell_type": "code",
   "execution_count": 3,
   "metadata": {
    "scrolled": true
   },
   "outputs": [
    {
     "name": "stdout",
     "output_type": "stream",
     "text": [
      "{\n",
      "    \"cod\": \"400\",\n",
      "    \"message\": \"Nothing to geocode\"\n",
      "}\n"
     ]
    }
   ],
   "source": [
    "api_key = weather_api_key\n",
    "url = \"http://api.openweathermap.org/data/2.5/weather?\"\n",
    "units = \"Imeprial\"\n",
    "query_url = f\"{url}appid={api_key}&units={units}&q=\"\n",
    "\n",
    "response = requests.get(query_url).json()\n",
    "print(json.dumps(response, indent=4, sort_keys=True))"
   ]
  },
  {
   "cell_type": "code",
   "execution_count": 4,
   "metadata": {},
   "outputs": [],
   "source": [
    "#creating a variable list\n",
    "city_name = []\n",
    "cloudiness = []\n",
    "countries = []\n",
    "dates = []\n",
    "humidity = []\n",
    "lat = []\n",
    "long = []\n",
    "max_temp = []\n",
    "wind_speed = []"
   ]
  },
  {
   "cell_type": "code",
   "execution_count": 5,
   "metadata": {},
   "outputs": [
    {
     "name": "stdout",
     "output_type": "stream",
     "text": [
      "Beginning Weather Data Retrieval\n",
      "--------------------------------\n",
      "Processing rikitea -- number 1 of 644....\n",
      "Processing parsabad -- number 2 of 644....\n",
      "Processing port alfred -- number 3 of 644....\n",
      "Processing arraial do cabo -- number 4 of 644....\n",
      "Processing mataura -- number 5 of 644....\n",
      "Processing hermanus -- number 6 of 644....\n",
      "Processing cape town -- number 7 of 644....\n",
      "Processing geraldton -- number 8 of 644....\n",
      "Processing pisco -- number 9 of 644....\n",
      "Processing acarau -- number 10 of 644....\n",
      "Processing puerto ayora -- number 11 of 644....\n",
      "Processing uruzgan -- number 12 of 644....\n",
      "Processing dunedin -- number 13 of 644....\n",
      "Processing yellowknife -- number 14 of 644....\n",
      "Processing albany -- number 15 of 644....\n",
      "Processing bryan -- number 16 of 644....\n",
      "Processing avarua -- number 17 of 644....\n",
      "Processing atuona -- number 18 of 644....\n",
      "Processing bluff -- number 19 of 644....\n",
      "Processing new norfolk -- number 20 of 644....\n",
      "Processing chapais -- number 21 of 644....\n",
      "Processing cherskiy -- number 22 of 644....\n",
      "Processing esperance -- number 23 of 644....\n",
      "Processing vila franca do campo -- number 24 of 644....\n",
      "Processing hofn -- number 25 of 644....\n",
      "Processing belushya guba -- number 26 of 644....\n",
      "Not able to process belushya guba. Moving to next city.\n",
      "Processing vaini -- number 27 of 644....\n",
      "Processing punta arenas -- number 28 of 644....\n",
      "Processing provideniya -- number 29 of 644....\n",
      "Processing taolanaro -- number 30 of 644....\n",
      "Not able to process taolanaro. Moving to next city.\n",
      "Processing menongue -- number 31 of 644....\n",
      "Processing narsaq -- number 32 of 644....\n",
      "Processing betong -- number 33 of 644....\n",
      "Processing half moon bay -- number 34 of 644....\n",
      "Processing lebu -- number 35 of 644....\n",
      "Processing havelock -- number 36 of 644....\n",
      "Processing chkalovskoye -- number 37 of 644....\n",
      "Processing barrow -- number 38 of 644....\n",
      "Processing tasbuget -- number 39 of 644....\n",
      "Not able to process tasbuget. Moving to next city.\n",
      "Processing bredasdorp -- number 40 of 644....\n",
      "Processing port moresby -- number 41 of 644....\n",
      "Processing tiksi -- number 42 of 644....\n",
      "Processing dolores -- number 43 of 644....\n",
      "Processing sukumo -- number 44 of 644....\n",
      "Processing busselton -- number 45 of 644....\n",
      "Processing aitape -- number 46 of 644....\n",
      "Processing ushuaia -- number 47 of 644....\n",
      "Processing abeche -- number 48 of 644....\n",
      "Processing ratnagiri -- number 49 of 644....\n",
      "Processing sar-e pul -- number 50 of 644....\n",
      "Processing broome -- number 51 of 644....\n",
      "Processing aflu -- number 52 of 644....\n",
      "Not able to process aflu. Moving to next city.\n",
      "Processing port hedland -- number 53 of 644....\n",
      "Processing san patricio -- number 54 of 644....\n",
      "Processing severo-kurilsk -- number 55 of 644....\n",
      "Processing hambantota -- number 56 of 644....\n",
      "Processing qaanaaq -- number 57 of 644....\n",
      "Processing bara -- number 58 of 644....\n",
      "Processing ardatov -- number 59 of 644....\n",
      "Processing havoysund -- number 60 of 644....\n",
      "Processing souillac -- number 61 of 644....\n",
      "Processing sitka -- number 62 of 644....\n",
      "Processing kodiak -- number 63 of 644....\n",
      "Processing kamenka -- number 64 of 644....\n",
      "Processing ponta do sol -- number 65 of 644....\n",
      "Processing porto belo -- number 66 of 644....\n",
      "Processing saint-philippe -- number 67 of 644....\n",
      "Processing daru -- number 68 of 644....\n",
      "Processing sakti -- number 69 of 644....\n",
      "Processing dikson -- number 70 of 644....\n",
      "Processing tingo maria -- number 71 of 644....\n",
      "Processing rincon -- number 72 of 644....\n",
      "Processing mocuba -- number 73 of 644....\n",
      "Processing nizhneyansk -- number 74 of 644....\n",
      "Not able to process nizhneyansk. Moving to next city.\n",
      "Processing el transito -- number 75 of 644....\n",
      "Processing butaritari -- number 76 of 644....\n",
      "Processing harper -- number 77 of 644....\n",
      "Processing usinsk -- number 78 of 644....\n",
      "Processing hirara -- number 79 of 644....\n",
      "Processing kapaa -- number 80 of 644....\n",
      "Processing kaitangata -- number 81 of 644....\n",
      "Processing illoqqortoormiut -- number 82 of 644....\n",
      "Not able to process illoqqortoormiut. Moving to next city.\n",
      "Processing oildale -- number 83 of 644....\n",
      "Processing east london -- number 84 of 644....\n",
      "Processing bethel -- number 85 of 644....\n",
      "Processing houlton -- number 86 of 644....\n",
      "Processing kahta -- number 87 of 644....\n",
      "Processing port elizabeth -- number 88 of 644....\n",
      "Processing tasiilaq -- number 89 of 644....\n",
      "Processing cabo san lucas -- number 90 of 644....\n",
      "Processing okhotsk -- number 91 of 644....\n",
      "Processing veraval -- number 92 of 644....\n",
      "Processing zhigalovo -- number 93 of 644....\n",
      "Processing charters towers -- number 94 of 644....\n",
      "Processing leirvik -- number 95 of 644....\n",
      "Processing kyabe -- number 96 of 644....\n",
      "Processing hobart -- number 97 of 644....\n",
      "Processing comodoro rivadavia -- number 98 of 644....\n",
      "Processing manzil jamil -- number 99 of 644....\n",
      "Not able to process manzil jamil. Moving to next city.\n",
      "Processing bargal -- number 100 of 644....\n",
      "Not able to process bargal. Moving to next city.\n",
      "Processing acajutla -- number 101 of 644....\n",
      "Processing christchurch -- number 102 of 644....\n",
      "Processing fort-de-france -- number 103 of 644....\n",
      "Processing attawapiskat -- number 104 of 644....\n",
      "Not able to process attawapiskat. Moving to next city.\n",
      "Processing viseu -- number 105 of 644....\n",
      "Processing baracoa -- number 106 of 644....\n",
      "Processing arman -- number 107 of 644....\n",
      "Processing kieta -- number 108 of 644....\n",
      "Processing teknaf -- number 109 of 644....\n",
      "Processing port blair -- number 110 of 644....\n",
      "Processing saskylakh -- number 111 of 644....\n",
      "Processing puerto madero -- number 112 of 644....\n",
      "Processing ikongo -- number 113 of 644....\n",
      "Processing alappuzha -- number 114 of 644....\n",
      "Processing changji -- number 115 of 644....\n",
      "Processing ribeira grande -- number 116 of 644....\n",
      "Processing phalaborwa -- number 117 of 644....\n",
      "Processing hilo -- number 118 of 644....\n",
      "Processing tulun -- number 119 of 644....\n",
      "Processing freeport -- number 120 of 644....\n",
      "Processing kloulklubed -- number 121 of 644....\n",
      "Processing pevek -- number 122 of 644....\n",
      "Processing umzimvubu -- number 123 of 644....\n",
      "Not able to process umzimvubu. Moving to next city.\n",
      "Processing petropavlovsk-kamchatskiy -- number 124 of 644....\n",
      "Processing clyde river -- number 125 of 644....\n",
      "Processing khatanga -- number 126 of 644....\n",
      "Processing port lincoln -- number 127 of 644....\n",
      "Processing atar -- number 128 of 644....\n",
      "Processing chokurdakh -- number 129 of 644....\n",
      "Processing kavieng -- number 130 of 644....\n",
      "Processing ostrovnoy -- number 131 of 644....\n",
      "Processing alofi -- number 132 of 644....\n",
      "Processing hithadhoo -- number 133 of 644....\n",
      "Processing faya -- number 134 of 644....\n",
      "Processing bouna -- number 135 of 644....\n",
      "Processing upernavik -- number 136 of 644....\n",
      "Processing hualmay -- number 137 of 644....\n",
      "Processing bandar -- number 138 of 644....\n",
      "Processing tananger -- number 139 of 644....\n",
      "Processing sobolevo -- number 140 of 644....\n",
      "Processing bajil -- number 141 of 644....\n",
      "Processing yerbogachen -- number 142 of 644....\n",
      "Processing thompson -- number 143 of 644....\n",
      "Processing contamana -- number 144 of 644....\n",
      "Processing lorengau -- number 145 of 644....\n",
      "Processing ekhabi -- number 146 of 644....\n",
      "Processing sorong -- number 147 of 644....\n",
      "Processing bathsheba -- number 148 of 644....\n",
      "Processing ribeira brava -- number 149 of 644....\n",
      "Processing ayna -- number 150 of 644....\n",
      "Processing russell -- number 151 of 644....\n",
      "Processing husavik -- number 152 of 644....\n",
      "Processing yanam -- number 153 of 644....\n",
      "Processing tsihombe -- number 154 of 644....\n",
      "Not able to process tsihombe. Moving to next city.\n",
      "Processing volchikha -- number 155 of 644....\n",
      "Processing samarai -- number 156 of 644....\n",
      "Processing benghazi -- number 157 of 644....\n",
      "Processing vardo -- number 158 of 644....\n",
      "Processing vila velha -- number 159 of 644....\n",
      "Processing comendador -- number 160 of 644....\n",
      "Processing kropotkin -- number 161 of 644....\n",
      "Processing constitucion -- number 162 of 644....\n",
      "Processing kamenskoye -- number 163 of 644....\n",
      "Not able to process kamenskoye. Moving to next city.\n",
      "Processing semnan -- number 164 of 644....\n",
      "Processing rorvik -- number 165 of 644....\n",
      "Processing arroio grande -- number 166 of 644....\n",
      "Processing ascension -- number 167 of 644....\n",
      "Processing saint-denis -- number 168 of 644....\n"
     ]
    },
    {
     "name": "stdout",
     "output_type": "stream",
     "text": [
      "Processing jamestown -- number 169 of 644....\n",
      "Processing chhindwara -- number 170 of 644....\n",
      "Processing huilong -- number 171 of 644....\n",
      "Processing bom jesus da lapa -- number 172 of 644....\n",
      "Processing sao joao da barra -- number 173 of 644....\n",
      "Processing ashbourne -- number 174 of 644....\n",
      "Processing srednekolymsk -- number 175 of 644....\n",
      "Processing tarudant -- number 176 of 644....\n",
      "Not able to process tarudant. Moving to next city.\n",
      "Processing mount gambier -- number 177 of 644....\n",
      "Processing evensk -- number 178 of 644....\n",
      "Processing hobyo -- number 179 of 644....\n",
      "Processing kommunar -- number 180 of 644....\n",
      "Processing sentyabrskiy -- number 181 of 644....\n",
      "Not able to process sentyabrskiy. Moving to next city.\n",
      "Processing manuk mangkaw -- number 182 of 644....\n",
      "Processing handlova -- number 183 of 644....\n",
      "Processing meyungs -- number 184 of 644....\n",
      "Not able to process meyungs. Moving to next city.\n",
      "Processing atambua -- number 185 of 644....\n",
      "Processing henties bay -- number 186 of 644....\n",
      "Processing chuy -- number 187 of 644....\n",
      "Processing nikolskoye -- number 188 of 644....\n",
      "Processing saint george -- number 189 of 644....\n",
      "Processing mount hagen -- number 190 of 644....\n",
      "Processing mar del plata -- number 191 of 644....\n",
      "Processing ixtepec -- number 192 of 644....\n",
      "Processing san antonio -- number 193 of 644....\n",
      "Processing booue -- number 194 of 644....\n",
      "Processing brindisi -- number 195 of 644....\n",
      "Processing rio grande -- number 196 of 644....\n",
      "Processing baykit -- number 197 of 644....\n",
      "Processing huarmey -- number 198 of 644....\n",
      "Processing nizwa -- number 199 of 644....\n",
      "Processing tuatapere -- number 200 of 644....\n",
      "Processing matara -- number 201 of 644....\n",
      "Processing riyadh -- number 202 of 644....\n",
      "Processing san jose -- number 203 of 644....\n",
      "Processing katsuura -- number 204 of 644....\n",
      "Processing watertown -- number 205 of 644....\n",
      "Processing piotrkow trybunalski -- number 206 of 644....\n",
      "Processing umtata -- number 207 of 644....\n",
      "Processing ust-kulom -- number 208 of 644....\n",
      "Processing kanniyakumari -- number 209 of 644....\n",
      "Processing sistranda -- number 210 of 644....\n",
      "Processing mama -- number 211 of 644....\n",
      "Processing chernyshevskiy -- number 212 of 644....\n",
      "Processing adeje -- number 213 of 644....\n",
      "Processing nishihara -- number 214 of 644....\n",
      "Processing odesskoye -- number 215 of 644....\n",
      "Processing synevyr -- number 216 of 644....\n",
      "Processing nemuro -- number 217 of 644....\n",
      "Processing yuancheng -- number 218 of 644....\n",
      "Processing vostok -- number 219 of 644....\n",
      "Processing cidreira -- number 220 of 644....\n",
      "Processing tuktoyaktuk -- number 221 of 644....\n",
      "Processing marzuq -- number 222 of 644....\n",
      "Processing pochutla -- number 223 of 644....\n",
      "Processing monrovia -- number 224 of 644....\n",
      "Processing carnarvon -- number 225 of 644....\n",
      "Processing karauzyak -- number 226 of 644....\n",
      "Not able to process karauzyak. Moving to next city.\n",
      "Processing walvis bay -- number 227 of 644....\n",
      "Processing puteyets -- number 228 of 644....\n",
      "Processing lake havasu city -- number 229 of 644....\n",
      "Processing linxia -- number 230 of 644....\n",
      "Processing lolua -- number 231 of 644....\n",
      "Not able to process lolua. Moving to next city.\n",
      "Processing acapulco -- number 232 of 644....\n",
      "Processing mahebourg -- number 233 of 644....\n",
      "Processing lagoa -- number 234 of 644....\n",
      "Processing moerai -- number 235 of 644....\n",
      "Processing vestmannaeyjar -- number 236 of 644....\n",
      "Processing eregli -- number 237 of 644....\n",
      "Processing georgetown -- number 238 of 644....\n",
      "Processing barentsburg -- number 239 of 644....\n",
      "Not able to process barentsburg. Moving to next city.\n",
      "Processing kruisfontein -- number 240 of 644....\n",
      "Processing znamensk -- number 241 of 644....\n",
      "Processing seoul -- number 242 of 644....\n",
      "Processing torbay -- number 243 of 644....\n",
      "Processing olafsvik -- number 244 of 644....\n",
      "Processing lichinga -- number 245 of 644....\n",
      "Processing grindavik -- number 246 of 644....\n",
      "Processing yuncheng -- number 247 of 644....\n",
      "Processing walla walla -- number 248 of 644....\n",
      "Processing ingham -- number 249 of 644....\n",
      "Processing erenhot -- number 250 of 644....\n",
      "Processing kawalu -- number 251 of 644....\n",
      "Processing pimentel -- number 252 of 644....\n",
      "Processing cabedelo -- number 253 of 644....\n",
      "Processing magdagachi -- number 254 of 644....\n",
      "Processing kletskaya -- number 255 of 644....\n",
      "Processing abu samrah -- number 256 of 644....\n",
      "Processing bonthe -- number 257 of 644....\n",
      "Processing amderma -- number 258 of 644....\n",
      "Not able to process amderma. Moving to next city.\n",
      "Processing lang son -- number 259 of 644....\n",
      "Processing alamosa -- number 260 of 644....\n",
      "Processing elkhart -- number 261 of 644....\n",
      "Processing ongandjera -- number 262 of 644....\n",
      "Processing saldanha -- number 263 of 644....\n",
      "Processing chumikan -- number 264 of 644....\n",
      "Processing valmiera -- number 265 of 644....\n",
      "Processing ahipara -- number 266 of 644....\n",
      "Processing puerto carreno -- number 267 of 644....\n",
      "Processing victoria -- number 268 of 644....\n",
      "Processing lagos -- number 269 of 644....\n",
      "Processing hofu -- number 270 of 644....\n",
      "Processing belem de sao francisco -- number 271 of 644....\n",
      "Processing esmeralda -- number 272 of 644....\n",
      "Processing sesori -- number 273 of 644....\n",
      "Processing zambezi -- number 274 of 644....\n",
      "Processing suntar -- number 275 of 644....\n",
      "Processing lavrentiya -- number 276 of 644....\n",
      "Processing portland -- number 277 of 644....\n",
      "Processing richards bay -- number 278 of 644....\n",
      "Processing saint-marc -- number 279 of 644....\n",
      "Processing namibe -- number 280 of 644....\n",
      "Processing algiers -- number 281 of 644....\n",
      "Processing necochea -- number 282 of 644....\n",
      "Processing dawei -- number 283 of 644....\n",
      "Processing castro -- number 284 of 644....\n",
      "Processing esmeraldas -- number 285 of 644....\n",
      "Processing airai -- number 286 of 644....\n",
      "Processing mangrol -- number 287 of 644....\n",
      "Processing komsomolskiy -- number 288 of 644....\n",
      "Processing porto walter -- number 289 of 644....\n",
      "Processing ulaanbaatar -- number 290 of 644....\n",
      "Processing hauge -- number 291 of 644....\n",
      "Processing nuevo progreso -- number 292 of 644....\n",
      "Processing doha -- number 293 of 644....\n",
      "Processing puerto narino -- number 294 of 644....\n",
      "Processing roma -- number 295 of 644....\n",
      "Processing touros -- number 296 of 644....\n",
      "Processing praia da vitoria -- number 297 of 644....\n",
      "Processing auki -- number 298 of 644....\n",
      "Processing summerside -- number 299 of 644....\n",
      "Processing yulara -- number 300 of 644....\n",
      "Processing kaabong -- number 301 of 644....\n",
      "Processing elk river -- number 302 of 644....\n",
      "Processing sembe -- number 303 of 644....\n",
      "Processing lasa -- number 304 of 644....\n",
      "Processing grafton -- number 305 of 644....\n",
      "Processing zolotinka -- number 306 of 644....\n",
      "Not able to process zolotinka. Moving to next city.\n",
      "Processing brownwood -- number 307 of 644....\n",
      "Processing icatu -- number 308 of 644....\n",
      "Processing toftir -- number 309 of 644....\n",
      "Not able to process toftir. Moving to next city.\n",
      "Processing sao filipe -- number 310 of 644....\n",
      "Processing waycross -- number 311 of 644....\n",
      "Processing copiapo -- number 312 of 644....\n",
      "Processing agirish -- number 313 of 644....\n",
      "Processing rexburg -- number 314 of 644....\n",
      "Processing deer lake -- number 315 of 644....\n",
      "Processing le mans -- number 316 of 644....\n",
      "Processing rupert -- number 317 of 644....\n",
      "Processing muros -- number 318 of 644....\n",
      "Processing ponta delgada -- number 319 of 644....\n",
      "Processing dubna -- number 320 of 644....\n",
      "Processing ko samui -- number 321 of 644....\n",
      "Processing san rafael -- number 322 of 644....\n",
      "Processing iqaluit -- number 323 of 644....\n",
      "Processing nhulunbuy -- number 324 of 644....\n",
      "Processing zanjan -- number 325 of 644....\n",
      "Processing alamor -- number 326 of 644....\n",
      "Processing karratha -- number 327 of 644....\n",
      "Processing shasta lake -- number 328 of 644....\n",
      "Processing nongstoin -- number 329 of 644....\n",
      "Processing south river -- number 330 of 644....\n",
      "Processing kirovskiy -- number 331 of 644....\n",
      "Processing chittaurgarh -- number 332 of 644....\n",
      "Processing marawi -- number 333 of 644....\n",
      "Processing mys shmidta -- number 334 of 644....\n",
      "Not able to process mys shmidta. Moving to next city.\n",
      "Processing camacari -- number 335 of 644....\n",
      "Processing krasnik -- number 336 of 644....\n",
      "Processing palmer -- number 337 of 644....\n"
     ]
    },
    {
     "name": "stdout",
     "output_type": "stream",
     "text": [
      "Processing marcona -- number 338 of 644....\n",
      "Not able to process marcona. Moving to next city.\n",
      "Processing xuddur -- number 339 of 644....\n",
      "Processing kanungu -- number 340 of 644....\n",
      "Processing santa isabel do rio negro -- number 341 of 644....\n",
      "Processing inhambane -- number 342 of 644....\n",
      "Processing hoddesdon -- number 343 of 644....\n",
      "Processing dingle -- number 344 of 644....\n",
      "Processing kavaratti -- number 345 of 644....\n",
      "Processing lewistown -- number 346 of 644....\n",
      "Processing camacha -- number 347 of 644....\n",
      "Processing turukhansk -- number 348 of 644....\n",
      "Processing leshukonskoye -- number 349 of 644....\n",
      "Processing carutapera -- number 350 of 644....\n",
      "Processing grand gaube -- number 351 of 644....\n",
      "Processing miles city -- number 352 of 644....\n",
      "Processing sinnai -- number 353 of 644....\n",
      "Processing koslan -- number 354 of 644....\n",
      "Processing terracina -- number 355 of 644....\n",
      "Processing tebingtinggi -- number 356 of 644....\n",
      "Processing penzance -- number 357 of 644....\n",
      "Processing urumqi -- number 358 of 644....\n",
      "Processing pontalina -- number 359 of 644....\n",
      "Processing melilla -- number 360 of 644....\n",
      "Processing nanortalik -- number 361 of 644....\n",
      "Processing skibotn -- number 362 of 644....\n",
      "Processing el bagre -- number 363 of 644....\n",
      "Processing ibra -- number 364 of 644....\n",
      "Processing asau -- number 365 of 644....\n",
      "Processing tigil -- number 366 of 644....\n",
      "Processing macheng -- number 367 of 644....\n",
      "Processing chhagalnaiya -- number 368 of 644....\n",
      "Processing zyryanka -- number 369 of 644....\n",
      "Processing eschwege -- number 370 of 644....\n",
      "Processing faanui -- number 371 of 644....\n",
      "Processing aklavik -- number 372 of 644....\n",
      "Processing rayagada -- number 373 of 644....\n",
      "Processing wiener neudorf -- number 374 of 644....\n",
      "Processing maua -- number 375 of 644....\n",
      "Processing saleaula -- number 376 of 644....\n",
      "Not able to process saleaula. Moving to next city.\n",
      "Processing norman wells -- number 377 of 644....\n",
      "Processing ostersund -- number 378 of 644....\n",
      "Processing brigantine -- number 379 of 644....\n",
      "Processing cayenne -- number 380 of 644....\n",
      "Processing mehamn -- number 381 of 644....\n",
      "Processing dongzhen -- number 382 of 644....\n",
      "Processing la ronge -- number 383 of 644....\n",
      "Processing saint combs -- number 384 of 644....\n",
      "Not able to process saint combs. Moving to next city.\n",
      "Processing port-cartier -- number 385 of 644....\n",
      "Processing sibolga -- number 386 of 644....\n",
      "Processing ilulissat -- number 387 of 644....\n",
      "Processing trinidad -- number 388 of 644....\n",
      "Processing fortuna -- number 389 of 644....\n",
      "Processing vila -- number 390 of 644....\n",
      "Processing mumford -- number 391 of 644....\n",
      "Processing carbonia -- number 392 of 644....\n",
      "Processing naduvattam -- number 393 of 644....\n",
      "Processing hauterive -- number 394 of 644....\n",
      "Processing vaitupu -- number 395 of 644....\n",
      "Not able to process vaitupu. Moving to next city.\n",
      "Processing pingliang -- number 396 of 644....\n",
      "Processing mahajanga -- number 397 of 644....\n",
      "Processing lompoc -- number 398 of 644....\n",
      "Processing oranjemund -- number 399 of 644....\n",
      "Processing kununurra -- number 400 of 644....\n",
      "Processing cap malheureux -- number 401 of 644....\n",
      "Processing yeppoon -- number 402 of 644....\n",
      "Processing artyk -- number 403 of 644....\n",
      "Not able to process artyk. Moving to next city.\n",
      "Processing ust-karsk -- number 404 of 644....\n",
      "Processing lobito -- number 405 of 644....\n",
      "Processing luderitz -- number 406 of 644....\n",
      "Processing northam -- number 407 of 644....\n",
      "Processing ler -- number 408 of 644....\n",
      "Processing qaqortoq -- number 409 of 644....\n",
      "Processing hammerfest -- number 410 of 644....\n",
      "Processing westport -- number 411 of 644....\n",
      "Processing paradwip -- number 412 of 644....\n",
      "Not able to process paradwip. Moving to next city.\n",
      "Processing alyangula -- number 413 of 644....\n",
      "Processing bow island -- number 414 of 644....\n",
      "Processing culfa -- number 415 of 644....\n",
      "Processing kirkuk -- number 416 of 644....\n",
      "Processing coihaique -- number 417 of 644....\n",
      "Processing angra dos reis -- number 418 of 644....\n",
      "Processing safaga -- number 419 of 644....\n",
      "Processing kudahuvadhoo -- number 420 of 644....\n",
      "Processing belaya gora -- number 421 of 644....\n",
      "Processing bengkulu -- number 422 of 644....\n",
      "Processing mala -- number 423 of 644....\n",
      "Processing tabiauea -- number 424 of 644....\n",
      "Not able to process tabiauea. Moving to next city.\n",
      "Processing mae hong son -- number 425 of 644....\n",
      "Processing palu -- number 426 of 644....\n",
      "Processing sakakah -- number 427 of 644....\n",
      "Processing sagua la grande -- number 428 of 644....\n",
      "Processing los llanos de aridane -- number 429 of 644....\n",
      "Processing asyut -- number 430 of 644....\n",
      "Processing itaituba -- number 431 of 644....\n",
      "Processing dicabisagan -- number 432 of 644....\n",
      "Processing siilinjarvi -- number 433 of 644....\n",
      "Processing beyneu -- number 434 of 644....\n",
      "Processing san andres -- number 435 of 644....\n",
      "Processing klaksvik -- number 436 of 644....\n",
      "Processing lake city -- number 437 of 644....\n",
      "Processing pangai -- number 438 of 644....\n",
      "Processing tulskiy -- number 439 of 644....\n",
      "Processing imbituba -- number 440 of 644....\n",
      "Processing itarema -- number 441 of 644....\n",
      "Processing goderich -- number 442 of 644....\n",
      "Processing aventura -- number 443 of 644....\n",
      "Processing ampanihy -- number 444 of 644....\n",
      "Processing baturaja -- number 445 of 644....\n",
      "Processing kaduna -- number 446 of 644....\n",
      "Processing villazon -- number 447 of 644....\n",
      "Processing san cristobal -- number 448 of 644....\n",
      "Processing tandalti -- number 449 of 644....\n",
      "Processing codrington -- number 450 of 644....\n",
      "Processing berlevag -- number 451 of 644....\n",
      "Processing yumen -- number 452 of 644....\n",
      "Processing campbell river -- number 453 of 644....\n",
      "Processing manta -- number 454 of 644....\n",
      "Processing ugoofaaru -- number 455 of 644....\n",
      "Processing louisbourg -- number 456 of 644....\n",
      "Not able to process louisbourg. Moving to next city.\n",
      "Processing tucurui -- number 457 of 644....\n",
      "Processing bambanglipuro -- number 458 of 644....\n",
      "Processing nome -- number 459 of 644....\n",
      "Processing saint-georges -- number 460 of 644....\n",
      "Processing mananara -- number 461 of 644....\n",
      "Processing antalaha -- number 462 of 644....\n",
      "Processing meulaboh -- number 463 of 644....\n",
      "Processing shimoda -- number 464 of 644....\n",
      "Processing barguzin -- number 465 of 644....\n",
      "Processing shubarkuduk -- number 466 of 644....\n",
      "Processing kushima -- number 467 of 644....\n",
      "Processing rangapara -- number 468 of 644....\n",
      "Processing poum -- number 469 of 644....\n",
      "Processing flinders -- number 470 of 644....\n",
      "Processing santa cruz -- number 471 of 644....\n",
      "Processing kharovsk -- number 472 of 644....\n",
      "Processing syracuse -- number 473 of 644....\n",
      "Processing ndiekro -- number 474 of 644....\n",
      "Not able to process ndiekro. Moving to next city.\n",
      "Processing yar-sale -- number 475 of 644....\n",
      "Processing caninde de sao francisco -- number 476 of 644....\n",
      "Processing aykhal -- number 477 of 644....\n",
      "Processing villa carlos paz -- number 478 of 644....\n",
      "Processing mahaicony -- number 479 of 644....\n",
      "Not able to process mahaicony. Moving to next city.\n",
      "Processing tubruq -- number 480 of 644....\n",
      "Not able to process tubruq. Moving to next city.\n",
      "Processing cururupu -- number 481 of 644....\n",
      "Processing longyearbyen -- number 482 of 644....\n",
      "Processing zubtsov -- number 483 of 644....\n",
      "Processing coquimbo -- number 484 of 644....\n",
      "Processing bahile -- number 485 of 644....\n",
      "Processing stellenbosch -- number 486 of 644....\n",
      "Processing bardiyah -- number 487 of 644....\n",
      "Processing tacuarembo -- number 488 of 644....\n",
      "Processing hare bay -- number 489 of 644....\n",
      "Processing tromso -- number 490 of 644....\n",
      "Processing ploemeur -- number 491 of 644....\n",
      "Processing yian -- number 492 of 644....\n",
      "Not able to process yian. Moving to next city.\n",
      "Processing new amsterdam -- number 493 of 644....\n",
      "Processing avera -- number 494 of 644....\n",
      "Processing kodinar -- number 495 of 644....\n",
      "Processing banda aceh -- number 496 of 644....\n",
      "Processing mecca -- number 497 of 644....\n",
      "Processing hay river -- number 498 of 644....\n",
      "Processing abbeville -- number 499 of 644....\n",
      "Processing vastervik -- number 500 of 644....\n",
      "Not able to process vastervik. Moving to next city.\n",
      "Processing bilibino -- number 501 of 644....\n",
      "Processing laiagam -- number 502 of 644....\n",
      "Not able to process laiagam. Moving to next city.\n",
      "Processing port hardy -- number 503 of 644....\n"
     ]
    },
    {
     "name": "stdout",
     "output_type": "stream",
     "text": [
      "Processing kenai -- number 504 of 644....\n",
      "Processing biak -- number 505 of 644....\n",
      "Processing itoman -- number 506 of 644....\n",
      "Processing luena -- number 507 of 644....\n",
      "Processing aiken -- number 508 of 644....\n",
      "Processing elizabeth city -- number 509 of 644....\n",
      "Processing arlit -- number 510 of 644....\n",
      "Processing saint-pierre -- number 511 of 644....\n",
      "Processing ban nahin -- number 512 of 644....\n",
      "Processing chagda -- number 513 of 644....\n",
      "Not able to process chagda. Moving to next city.\n",
      "Processing flin flon -- number 514 of 644....\n",
      "Processing lima -- number 515 of 644....\n",
      "Processing ossora -- number 516 of 644....\n",
      "Processing san pedro -- number 517 of 644....\n",
      "Processing makakilo city -- number 518 of 644....\n",
      "Processing talnakh -- number 519 of 644....\n",
      "Processing mamallapuram -- number 520 of 644....\n",
      "Processing wanning -- number 521 of 644....\n",
      "Processing gopalpur -- number 522 of 644....\n",
      "Processing tessalit -- number 523 of 644....\n",
      "Processing carleton place -- number 524 of 644....\n",
      "Processing marystown -- number 525 of 644....\n",
      "Processing selaphum -- number 526 of 644....\n",
      "Processing solnechnyy -- number 527 of 644....\n",
      "Processing kuche -- number 528 of 644....\n",
      "Not able to process kuche. Moving to next city.\n",
      "Processing kyren -- number 529 of 644....\n",
      "Processing beloha -- number 530 of 644....\n",
      "Processing leningradskiy -- number 531 of 644....\n",
      "Processing adre -- number 532 of 644....\n",
      "Processing buin -- number 533 of 644....\n",
      "Processing salalah -- number 534 of 644....\n",
      "Processing san carlos de bariloche -- number 535 of 644....\n",
      "Processing loanda -- number 536 of 644....\n",
      "Processing rawson -- number 537 of 644....\n",
      "Processing ginda -- number 538 of 644....\n",
      "Processing monterey -- number 539 of 644....\n",
      "Processing smoky lake -- number 540 of 644....\n",
      "Processing carballo -- number 541 of 644....\n",
      "Processing kendari -- number 542 of 644....\n",
      "Processing sumbawa -- number 543 of 644....\n",
      "Not able to process sumbawa. Moving to next city.\n",
      "Processing son la -- number 544 of 644....\n",
      "Processing emba -- number 545 of 644....\n",
      "Processing plymouth -- number 546 of 644....\n",
      "Processing andevoranto -- number 547 of 644....\n",
      "Not able to process andevoranto. Moving to next city.\n",
      "Processing broceni -- number 548 of 644....\n",
      "Processing najran -- number 549 of 644....\n",
      "Processing prince rupert -- number 550 of 644....\n",
      "Processing tambopata -- number 551 of 644....\n",
      "Processing athabasca -- number 552 of 644....\n",
      "Processing gamba -- number 553 of 644....\n",
      "Processing eureka -- number 554 of 644....\n",
      "Processing nichinan -- number 555 of 644....\n",
      "Processing naifaru -- number 556 of 644....\n",
      "Processing hamilton -- number 557 of 644....\n",
      "Processing krasnoselkup -- number 558 of 644....\n",
      "Processing santo augusto -- number 559 of 644....\n",
      "Processing taoudenni -- number 560 of 644....\n",
      "Processing zheleznodorozhnyy -- number 561 of 644....\n",
      "Processing belyy yar -- number 562 of 644....\n",
      "Processing ducheng -- number 563 of 644....\n",
      "Processing dakar -- number 564 of 644....\n",
      "Processing byron bay -- number 565 of 644....\n",
      "Processing galle -- number 566 of 644....\n",
      "Processing alice springs -- number 567 of 644....\n",
      "Processing havre-saint-pierre -- number 568 of 644....\n",
      "Processing denpasar -- number 569 of 644....\n",
      "Processing tura -- number 570 of 644....\n",
      "Processing markova -- number 571 of 644....\n",
      "Processing samalaeulu -- number 572 of 644....\n",
      "Not able to process samalaeulu. Moving to next city.\n",
      "Processing grand river south east -- number 573 of 644....\n",
      "Not able to process grand river south east. Moving to next city.\n",
      "Processing marietta -- number 574 of 644....\n",
      "Processing vysotsk -- number 575 of 644....\n",
      "Processing worland -- number 576 of 644....\n",
      "Processing phek -- number 577 of 644....\n",
      "Processing fairbanks -- number 578 of 644....\n",
      "Processing labrea -- number 579 of 644....\n",
      "Processing mao -- number 580 of 644....\n",
      "Processing sungairaya -- number 581 of 644....\n",
      "Processing kalmunai -- number 582 of 644....\n",
      "Processing bakchar -- number 583 of 644....\n",
      "Processing pointe-noire -- number 584 of 644....\n",
      "Processing manjacaze -- number 585 of 644....\n",
      "Processing jasper -- number 586 of 644....\n",
      "Processing mount isa -- number 587 of 644....\n",
      "Processing yauya -- number 588 of 644....\n",
      "Processing pacific grove -- number 589 of 644....\n",
      "Processing redmond -- number 590 of 644....\n",
      "Processing kashima -- number 591 of 644....\n",
      "Processing puerto baquerizo moreno -- number 592 of 644....\n",
      "Processing nikki -- number 593 of 644....\n",
      "Processing epe -- number 594 of 644....\n",
      "Processing isangel -- number 595 of 644....\n",
      "Processing beidao -- number 596 of 644....\n",
      "Processing talawdi -- number 597 of 644....\n",
      "Not able to process talawdi. Moving to next city.\n",
      "Processing shingu -- number 598 of 644....\n",
      "Processing omurtag -- number 599 of 644....\n",
      "Processing yakeshi -- number 600 of 644....\n",
      "Processing tutoia -- number 601 of 644....\n",
      "Processing burns lake -- number 602 of 644....\n",
      "Processing kaili -- number 603 of 644....\n",
      "Processing ancud -- number 604 of 644....\n",
      "Processing roald -- number 605 of 644....\n",
      "Processing manzhouli -- number 606 of 644....\n",
      "Processing sur -- number 607 of 644....\n",
      "Processing tikhvin -- number 608 of 644....\n",
      "Processing barawe -- number 609 of 644....\n",
      "Not able to process barawe. Moving to next city.\n",
      "Processing vao -- number 610 of 644....\n",
      "Processing tsabong -- number 611 of 644....\n",
      "Processing amposta -- number 612 of 644....\n",
      "Processing batemans bay -- number 613 of 644....\n",
      "Processing college -- number 614 of 644....\n",
      "Processing obertyn -- number 615 of 644....\n",
      "Processing inirida -- number 616 of 644....\n",
      "Processing sangmelima -- number 617 of 644....\n",
      "Processing kahului -- number 618 of 644....\n",
      "Processing bilma -- number 619 of 644....\n",
      "Processing atasu -- number 620 of 644....\n",
      "Processing la rioja -- number 621 of 644....\n",
      "Processing halalo -- number 622 of 644....\n",
      "Not able to process halalo. Moving to next city.\n",
      "Processing sergeyevka -- number 623 of 644....\n",
      "Processing valdivia -- number 624 of 644....\n",
      "Processing balykshi -- number 625 of 644....\n",
      "Processing noyabrsk -- number 626 of 644....\n",
      "Processing haines junction -- number 627 of 644....\n",
      "Processing jaguarari -- number 628 of 644....\n",
      "Processing bahia blanca -- number 629 of 644....\n",
      "Processing gravdal -- number 630 of 644....\n",
      "Processing mtwara -- number 631 of 644....\n",
      "Processing nola -- number 632 of 644....\n",
      "Processing svetlogorsk -- number 633 of 644....\n",
      "Processing mogadishu -- number 634 of 644....\n",
      "Processing neuquen -- number 635 of 644....\n",
      "Processing naze -- number 636 of 644....\n",
      "Processing tairua -- number 637 of 644....\n",
      "Processing umm kaddadah -- number 638 of 644....\n",
      "Processing curuca -- number 639 of 644....\n",
      "Processing cockburn town -- number 640 of 644....\n",
      "Processing margate -- number 641 of 644....\n",
      "Processing okato -- number 642 of 644....\n",
      "Processing kibala -- number 643 of 644....\n",
      "Processing poso -- number 644 of 644....\n",
      "All done! Processed 599 of 644 total cities.\n"
     ]
    }
   ],
   "source": [
    "totalcities = len(cities)\n",
    "i = 1\n",
    "\n",
    "print(\"Beginning Weather Data Retrieval\")\n",
    "print(\"--------------------------------\")\n",
    "for city in cities:\n",
    "    try:\n",
    "        print(f\"Processing {city} -- number {i} of {totalcities}....\")\n",
    "        i+=1\n",
    "        response = requests.get(query_url + city).json()\n",
    "        city_name.append(response['name'])\n",
    "        countries.append(response['sys']['country'])\n",
    "        cloudiness.append(response['clouds']['all'])\n",
    "        dates.append(response['dt'])\n",
    "        humidity.append(response['main']['humidity'])\n",
    "        lat.append(response['coord']['lat'])\n",
    "        long.append(response['coord']['lon'])\n",
    "        max_temp.append(response['main']['temp_max'])\n",
    "        wind_speed.append(response['wind']['speed'])\n",
    "        \n",
    "        time.sleep(1.02)\n",
    "    except:\n",
    "        print(f\"Not able to process {city}. Moving to next city.\")\n",
    "        \n",
    "print(f\"All done! Processed {len(city_name)} of {totalcities} total cities.\")    "
   ]
  },
  {
   "cell_type": "markdown",
   "metadata": {},
   "source": [
    "### Convert Raw Data to DataFrame\n",
    "* Export the city data into a .csv.\n",
    "* Display the DataFrame"
   ]
  },
  {
   "cell_type": "code",
   "execution_count": 6,
   "metadata": {},
   "outputs": [],
   "source": [
    "city_dict = {\n",
    "                \"City\":city_name,\n",
    "                \"Country\":countries,\n",
    "                \"Cloudiness\":cloudiness,\n",
    "                \"Date\":dates,\n",
    "                \"Humidity\":humidity,\n",
    "                \"Latitude\":lat,\n",
    "                \"Longitude\":long,\n",
    "                \"Max Temp\":max_temp,\n",
    "                \"Wind Speed\":wind_speed   \n",
    "            }\n",
    "city_data_df=pd.DataFrame(city_dict)\n",
    "city_data_csv=city_data_df.to_csv('city_data.csv', header=True)"
   ]
  },
  {
   "cell_type": "code",
   "execution_count": 7,
   "metadata": {},
   "outputs": [
    {
     "data": {
      "text/html": [
       "<div>\n",
       "<style scoped>\n",
       "    .dataframe tbody tr th:only-of-type {\n",
       "        vertical-align: middle;\n",
       "    }\n",
       "\n",
       "    .dataframe tbody tr th {\n",
       "        vertical-align: top;\n",
       "    }\n",
       "\n",
       "    .dataframe thead th {\n",
       "        text-align: right;\n",
       "    }\n",
       "</style>\n",
       "<table border=\"1\" class=\"dataframe\">\n",
       "  <thead>\n",
       "    <tr style=\"text-align: right;\">\n",
       "      <th></th>\n",
       "      <th>City</th>\n",
       "      <th>Country</th>\n",
       "      <th>Cloudiness</th>\n",
       "      <th>Date</th>\n",
       "      <th>Humidity</th>\n",
       "      <th>Latitude</th>\n",
       "      <th>Longitude</th>\n",
       "      <th>Max Temp</th>\n",
       "      <th>Wind Speed</th>\n",
       "    </tr>\n",
       "  </thead>\n",
       "  <tbody>\n",
       "    <tr>\n",
       "      <th>0</th>\n",
       "      <td>Rikitea</td>\n",
       "      <td>PF</td>\n",
       "      <td>0</td>\n",
       "      <td>1604091685</td>\n",
       "      <td>68</td>\n",
       "      <td>-23.12</td>\n",
       "      <td>-134.97</td>\n",
       "      <td>297.59</td>\n",
       "      <td>3.55</td>\n",
       "    </tr>\n",
       "    <tr>\n",
       "      <th>1</th>\n",
       "      <td>Pārsābād</td>\n",
       "      <td>IR</td>\n",
       "      <td>0</td>\n",
       "      <td>1604091785</td>\n",
       "      <td>93</td>\n",
       "      <td>39.65</td>\n",
       "      <td>47.92</td>\n",
       "      <td>285.15</td>\n",
       "      <td>3.10</td>\n",
       "    </tr>\n",
       "    <tr>\n",
       "      <th>2</th>\n",
       "      <td>Port Alfred</td>\n",
       "      <td>ZA</td>\n",
       "      <td>73</td>\n",
       "      <td>1604091567</td>\n",
       "      <td>64</td>\n",
       "      <td>-33.59</td>\n",
       "      <td>26.89</td>\n",
       "      <td>287.82</td>\n",
       "      <td>1.07</td>\n",
       "    </tr>\n",
       "    <tr>\n",
       "      <th>3</th>\n",
       "      <td>Arraial do Cabo</td>\n",
       "      <td>BR</td>\n",
       "      <td>75</td>\n",
       "      <td>1604091787</td>\n",
       "      <td>88</td>\n",
       "      <td>-22.97</td>\n",
       "      <td>-42.03</td>\n",
       "      <td>297.15</td>\n",
       "      <td>5.70</td>\n",
       "    </tr>\n",
       "    <tr>\n",
       "      <th>4</th>\n",
       "      <td>Mataura</td>\n",
       "      <td>NZ</td>\n",
       "      <td>100</td>\n",
       "      <td>1604091788</td>\n",
       "      <td>98</td>\n",
       "      <td>-46.19</td>\n",
       "      <td>168.86</td>\n",
       "      <td>285.37</td>\n",
       "      <td>4.92</td>\n",
       "    </tr>\n",
       "  </tbody>\n",
       "</table>\n",
       "</div>"
      ],
      "text/plain": [
       "              City Country  Cloudiness        Date  Humidity  Latitude  \\\n",
       "0          Rikitea      PF           0  1604091685        68    -23.12   \n",
       "1         Pārsābād      IR           0  1604091785        93     39.65   \n",
       "2      Port Alfred      ZA          73  1604091567        64    -33.59   \n",
       "3  Arraial do Cabo      BR          75  1604091787        88    -22.97   \n",
       "4          Mataura      NZ         100  1604091788        98    -46.19   \n",
       "\n",
       "   Longitude  Max Temp  Wind Speed  \n",
       "0    -134.97    297.59        3.55  \n",
       "1      47.92    285.15        3.10  \n",
       "2      26.89    287.82        1.07  \n",
       "3     -42.03    297.15        5.70  \n",
       "4     168.86    285.37        4.92  "
      ]
     },
     "execution_count": 7,
     "metadata": {},
     "output_type": "execute_result"
    }
   ],
   "source": [
    "city_data_df.head()"
   ]
  },
  {
   "cell_type": "markdown",
   "metadata": {},
   "source": [
    "## Inspect the data and remove the cities where the humidity > 100%.\n",
    "----\n",
    "Skip this step if there are no cities that have humidity > 100%. "
   ]
  },
  {
   "cell_type": "code",
   "execution_count": 8,
   "metadata": {},
   "outputs": [],
   "source": [
    "#  Get the indices of cities that have humidity over 100%.\n",
    "#city_data_df['Humidity'].describe()\n",
    "#for temp in city_data_df['Humidity']:\n",
    "#   if temp >100:\n",
    "#      print(temp)\n",
    "        "
   ]
  },
  {
   "cell_type": "code",
   "execution_count": 9,
   "metadata": {},
   "outputs": [],
   "source": [
    "# Make a new DataFrame equal to the city data to drop all humidity outliers by index.\n",
    "# Passing \"inplace=False\" will make a copy of the city_data DataFrame, which we call \"clean_city_data\".\n"
   ]
  },
  {
   "cell_type": "markdown",
   "metadata": {},
   "source": [
    "## Plotting the Data\n",
    "* Use proper labeling of the plots using plot titles (including date of analysis) and axes labels.\n",
    "* Save the plotted figures as .pngs."
   ]
  },
  {
   "cell_type": "markdown",
   "metadata": {},
   "source": [
    "## Latitude vs. Temperature Plot"
   ]
  },
  {
   "cell_type": "code",
   "execution_count": 10,
   "metadata": {
    "scrolled": true
   },
   "outputs": [
    {
     "data": {
      "image/png": "[encoded data removed]",
      "text/plain": [
       "<Figure size 432x288 with 1 Axes>"
      ]
     },
     "metadata": {
      "needs_background": "light"
     },
     "output_type": "display_data"
    }
   ],
   "source": [
    "plt.scatter(city_data_df[\"Latitude\"],city_data_df[\"Max Temp\"],s=15 , marker=\"o\")\n",
    "\n",
    "plt.title(f\"City Latitude vs. Temperature(F)\")\n",
    "plt.xlabel(\"Latitude\")\n",
    "plt.ylabel(\"Temperature(F)\")\n",
    "\n",
    "plt.grid()\n",
    "#save the plot\n",
    "plt.savefig(\"Lat_v_Temp.png\")\n",
    "\n",
    "plt.show()"
   ]
  },
  {
   "cell_type": "markdown",
   "metadata": {},
   "source": [
    "## Latitude vs. Humidity Plot"
   ]
  },
  {
   "cell_type": "code",
   "execution_count": 11,
   "metadata": {},
   "outputs": [
    {
     "data": {
      "image/png": "[encoded data removed]",
      "text/plain": [
       "<Figure size 432x288 with 1 Axes>"
      ]
     },
     "metadata": {
      "needs_background": "light"
     },
     "output_type": "display_data"
    }
   ],
   "source": [
    "plt.scatter(city_data_df[\"Latitude\"],city_data_df[\"Humidity\"],s=15 , marker=\"o\")\n",
    "\n",
    "plt.title(f\"City Latitude vs. Humidity\")\n",
    "plt.xlabel(\"Latitude\")\n",
    "plt.ylabel(\"Humidity\")\n",
    "\n",
    "plt.grid()\n",
    "#save the plot\n",
    "plt.savefig(\"Lat_v_Humidity.png\")\n",
    "\n",
    "plt.show()"
   ]
  },
  {
   "cell_type": "markdown",
   "metadata": {},
   "source": [
    "## Latitude vs. Cloudiness Plot"
   ]
  },
  {
   "cell_type": "code",
   "execution_count": 12,
   "metadata": {},
   "outputs": [
    {
     "data": {
      "image/png": "[encoded data removed]",
      "text/plain": [
       "<Figure size 432x288 with 1 Axes>"
      ]
     },
     "metadata": {
      "needs_background": "light"
     },
     "output_type": "display_data"
    }
   ],
   "source": [
    "plt.scatter(city_data_df[\"Latitude\"],city_data_df[\"Cloudiness\"],s=15 , marker=\"o\")\n",
    "\n",
    "#making a title\n",
    "plt.title(\"Latitude vs. Cloudiness\")\n",
    "\n",
    "# making a label for x and y axis\n",
    "plt.xlabel(\"Latitude\")\n",
    "plt.ylabel(\"Cloudiness\")\n",
    "\n",
    "#making a grid\n",
    "plt.grid()\n",
    "\n",
    "#saving the plot in to png file\n",
    "plt.savefig(\"Lat_v_Cloudiness.png\")\n",
    "\n",
    "plt.show()"
   ]
  },
  {
   "cell_type": "markdown",
   "metadata": {},
   "source": [
    "## Latitude vs. Wind Speed Plot"
   ]
  },
  {
   "cell_type": "code",
   "execution_count": 13,
   "metadata": {},
   "outputs": [
    {
     "data": {
      "image/png": "[encoded data removed]",
      "text/plain": [
       "<Figure size 432x288 with 1 Axes>"
      ]
     },
     "metadata": {
      "needs_background": "light"
     },
     "output_type": "display_data"
    }
   ],
   "source": [
    "plt.scatter(city_data_df[\"Latitude\"],city_data_df[\"Wind Speed\"], s=15, marker=\"o\")\n",
    "# making a title\n",
    "plt.title(\"Latitude vs. Wind Speed\")\n",
    "\n",
    "#making a label for x and y axis\n",
    "plt.xlabel(\"Latitude\")\n",
    "plt.ylabel(\"Wind Speed\")\n",
    "\n",
    "# make a grid\n",
    "plt.grid()\n",
    "#saving the plot as png file\n",
    "plt.savefig('Lat_vs_Windspeed.png')\n",
    "plt.show()\n"
   ]
  },
  {
   "cell_type": "markdown",
   "metadata": {},
   "source": [
    "## Linear Regression"
   ]
  },
  {
   "cell_type": "code",
   "execution_count": 14,
   "metadata": {},
   "outputs": [],
   "source": [
    "northern =city_data_df.loc[city_data_df[\"Latitude\"] >= 0.0]\n",
    "northern.reset_index(inplace=True)\n",
    "\n",
    "southern = city_data_df.loc[city_data_df[\"Latitude\"] < 0.0]\n",
    "southern.reset_index(inplace=True)\n"
   ]
  },
  {
   "cell_type": "markdown",
   "metadata": {},
   "source": [
    "####  Northern Hemisphere - Max Temp vs. Latitude Linear Regression"
   ]
  },
  {
   "cell_type": "code",
   "execution_count": 15,
   "metadata": {},
   "outputs": [
    {
     "name": "stdout",
     "output_type": "stream",
     "text": [
      "The r-squared is: -0.8645809851562856\n"
     ]
    },
    {
     "data": {
      "image/png": "[encoded data removed]",
      "text/plain": [
       "<Figure size 432x288 with 1 Axes>"
      ]
     },
     "metadata": {
      "needs_background": "light"
     },
     "output_type": "display_data"
    }
   ],
   "source": [
    "# Northern Hemisphere - Max Temp vs. Latitude Linear Regression\n",
    "# the x and y value in the axis for Northern Hemisphere\n",
    "x_value=(northern[\"Max Temp\"])\n",
    "y_value=northern[\"Latitude\"]\n",
    "#Linear regression \n",
    "(slope, intercept, rvalue, pvalue, stderr) = linregress(x_value,y_value)\n",
    "print(f\"The r-squared is: {rvalue}\")\n",
    "regress_values = x_value * slope + intercept\n",
    "#print function for the equation of the line\n",
    "line_eq = \"y = \" + str(round(slope,2)) + \"x + \" + str(round(intercept,2))\n",
    "\n",
    "plt.scatter(x_value,y_value)\n",
    "plt.plot(x_value,regress_values,\"r-\")\n",
    "plt.annotate(line_eq,(260,15),fontsize=15,color=\"red\")\n",
    "plt.xlabel(\"Max Temperature\")\n",
    "plt.ylabel(\"Latitude\")\n",
    "plt.savefig(f\"Northern_Hemi_Temp_vs_Latitude.png\")\n",
    "    "
   ]
  },
  {
   "cell_type": "markdown",
   "metadata": {},
   "source": [
    "####  Southern Hemisphere - Max Temp vs. Latitude Linear Regression"
   ]
  },
  {
   "cell_type": "code",
   "execution_count": 21,
   "metadata": {},
   "outputs": [
    {
     "name": "stdout",
     "output_type": "stream",
     "text": [
      "The r-squared is: 0.6270537961689298\n"
     ]
    },
    {
     "data": {
      "image/png": "[encoded data removed]",
      "text/plain": [
       "<Figure size 432x288 with 1 Axes>"
      ]
     },
     "metadata": {
      "needs_background": "light"
     },
     "output_type": "display_data"
    }
   ],
   "source": [
    "x_value=(southern[\"Max Temp\"])\n",
    "y_value=southern[\"Latitude\"]\n",
    "(slope, intercept, rvalue, pvalue, stderr) = linregress(x_value,y_value)\n",
    "print(f\"The r-squared is: {rvalue}\")\n",
    "regress_values = x_value * slope + intercept\n",
    "line_eq = \"y = \" + str(round(slope,2)) + \"x + \" + str(round(intercept,2))\n",
    "\n",
    "plt.scatter(x_value,y_value)\n",
    "plt.plot(x_value,regress_values,\"r-\")\n",
    "plt.annotate(line_eq,(290,-55),fontsize=15,color=\"red\")\n",
    "plt.xlabel(\"Max Temperature\")\n",
    "plt.ylabel(\"Latitude\")\n",
    "plt.savefig(f\"southern_Hemi_Temp_vs_Latitude.png\")\n",
    "    "
   ]
  },
  {
   "cell_type": "markdown",
   "metadata": {},
   "source": [
    "####  Northern Hemisphere - Humidity (%) vs. Latitude Linear Regression"
   ]
  },
  {
   "cell_type": "code",
   "execution_count": 20,
   "metadata": {},
   "outputs": [
    {
     "name": "stdout",
     "output_type": "stream",
     "text": [
      "The r-squared is: 0.29186995700030205\n"
     ]
    },
    {
     "data": {
      "image/png": "[encoded data removed]",
      "text/plain": [
       "<Figure size 432x288 with 1 Axes>"
      ]
     },
     "metadata": {
      "needs_background": "light"
     },
     "output_type": "display_data"
    }
   ],
   "source": [
    "x_value=(northern[\"Humidity\"])\n",
    "y_value=northern[\"Latitude\"]\n",
    "(slope, intercept, rvalue, pvalue, stderr) = linregress(x_value,y_value)\n",
    "print(f\"The r-squared is: {rvalue}\")\n",
    "regress_values = x_value * slope + intercept\n",
    "line_eq = \"y = \" + str(round(slope,2)) + \"x + \" + str(round(intercept,2))\n",
    "\n",
    "plt.scatter(x_value,y_value)\n",
    "plt.plot(x_value,regress_values,\"r-\")\n",
    "plt.annotate(line_eq,(10,65),fontsize=15,color=\"red\")\n",
    "plt.xlabel(\"Humidity(%)\")\n",
    "plt.ylabel(\"Latitude\")\n",
    "plt.savefig(f\"Northern_Hemi_Humidity_vs_Latitude.png\")\n",
    "    "
   ]
  },
  {
   "cell_type": "markdown",
   "metadata": {},
   "source": [
    "####  Southern Hemisphere - Humidity (%) vs. Latitude Linear Regression"
   ]
  },
  {
   "cell_type": "code",
   "execution_count": 23,
   "metadata": {},
   "outputs": [
    {
     "name": "stdout",
     "output_type": "stream",
     "text": [
      "The r-squared is: 0.2730706321819989\n"
     ]
    },
    {
     "data": {
      "image/png": "[encoded data removed]",
      "text/plain": [
       "<Figure size 432x288 with 1 Axes>"
      ]
     },
     "metadata": {
      "needs_background": "light"
     },
     "output_type": "display_data"
    }
   ],
   "source": [
    "x_value=(southern[\"Humidity\"])\n",
    "y_value=southern[\"Latitude\"]\n",
    "(slope, intercept, rvalue, pvalue, stderr) = linregress(x_value,y_value)\n",
    "print(f\"The r-squared is: {rvalue}\")\n",
    "regress_values = x_value * slope + intercept\n",
    "line_eq = \"y = \" + str(round(slope,2)) + \"x + \" + str(round(intercept,2))\n",
    "\n",
    "plt.scatter(x_value,y_value)\n",
    "plt.plot(x_value,regress_values,\"r-\")\n",
    "plt.annotate(line_eq,(15,-55),fontsize=15,color=\"red\")\n",
    "plt.xlabel(\"Humidity(%)\")\n",
    "plt.ylabel(\"Latitude\")\n",
    "plt.savefig(f\"southern_Hemi_Humidity_vs_Latitude.png\")\n",
    "    "
   ]
  },
  {
   "cell_type": "markdown",
   "metadata": {},
   "source": [
    "####  Northern Hemisphere - Cloudiness (%) vs. Latitude Linear Regression"
   ]
  },
  {
   "cell_type": "code",
   "execution_count": 25,
   "metadata": {},
   "outputs": [
    {
     "name": "stdout",
     "output_type": "stream",
     "text": [
      "The r-squared is: 0.21169585488478013\n"
     ]
    },
    {
     "data": {
      "image/png": "[encoded data removed]",
      "text/plain": [
       "<Figure size 432x288 with 1 Axes>"
      ]
     },
     "metadata": {
      "needs_background": "light"
     },
     "output_type": "display_data"
    }
   ],
   "source": [
    "\n",
    "x_value=(northern[\"Cloudiness\"])\n",
    "y_value=northern[\"Latitude\"]\n",
    "(slope, intercept, rvalue, pvalue, stderr) = linregress(x_value,y_value)\n",
    "print(f\"The r-squared is: {rvalue}\")\n",
    "regress_values = x_value * slope + intercept\n",
    "line_eq = \"y = \" + str(round(slope,2)) + \"x + \" + str(round(intercept,2))\n",
    "\n",
    "plt.scatter(x_value,y_value)\n",
    "plt.plot(x_value,regress_values,\"r-\")\n",
    "plt.annotate(line_eq,(20,75),fontsize=15,color=\"red\")\n",
    "plt.xlabel(\"Cloudiness (%)\")\n",
    "plt.ylabel(\"Latitude\")\n",
    "plt.savefig(f\"Northern_Hemi_Cloudiness_vs_Latitude.png\")\n",
    "    "
   ]
  },
  {
   "cell_type": "markdown",
   "metadata": {},
   "source": [
    "####  Southern Hemisphere - Cloudiness (%) vs. Latitude Linear Regression"
   ]
  },
  {
   "cell_type": "code",
   "execution_count": 27,
   "metadata": {},
   "outputs": [
    {
     "name": "stdout",
     "output_type": "stream",
     "text": [
      "The r-squared is: 0.2500705471242668\n"
     ]
    },
    {
     "data": {
      "image/png": "[encoded data removed]",
      "text/plain": [
       "<Figure size 432x288 with 1 Axes>"
      ]
     },
     "metadata": {
      "needs_background": "light"
     },
     "output_type": "display_data"
    }
   ],
   "source": [
    "x_value=(southern[\"Cloudiness\"])\n",
    "y_value=southern[\"Latitude\"]\n",
    "(slope, intercept, rvalue, pvalue, stderr) = linregress(x_value,y_value)\n",
    "print(f\"The r-squared is: {rvalue}\")\n",
    "regress_values = x_value * slope + intercept\n",
    "line_eq = \"y = \" + str(round(slope,2)) + \"x + \" + str(round(intercept,2))\n",
    "\n",
    "plt.scatter(x_value,y_value)\n",
    "plt.plot(x_value,regress_values,\"r-\")\n",
    "plt.annotate(line_eq,(20,-50),fontsize=15,color=\"red\")\n",
    "plt.xlabel(\"Cloudiness\")\n",
    "plt.ylabel(\"Latitude\")\n",
    "plt.savefig(f\"southern_Hemi_Cloudiness_vs_Latitude.png\")\n",
    "    "
   ]
  },
  {
   "cell_type": "markdown",
   "metadata": {},
   "source": [
    "####  Northern Hemisphere - Wind Speed (mph) vs. Latitude Linear Regression"
   ]
  },
  {
   "cell_type": "code",
   "execution_count": 30,
   "metadata": {},
   "outputs": [
    {
     "name": "stdout",
     "output_type": "stream",
     "text": [
      "The r-squared is: 0.08116461270355291\n"
     ]
    },
    {
     "data": {
      "image/png": "[encoded data removed]",
      "text/plain": [
       "<Figure size 432x288 with 1 Axes>"
      ]
     },
     "metadata": {
      "needs_background": "light"
     },
     "output_type": "display_data"
    }
   ],
   "source": [
    "x_value=(northern[\"Wind Speed\"])\n",
    "y_value=northern[\"Latitude\"]\n",
    "(slope, intercept, rvalue, pvalue, stderr) = linregress(x_value,y_value)\n",
    "print(f\"The r-squared is: {rvalue}\")\n",
    "regress_values = x_value * slope + intercept\n",
    "line_eq = \"y = \" + str(round(slope,2)) + \"x + \" + str(round(intercept,2))\n",
    "\n",
    "plt.scatter(x_value,y_value)\n",
    "plt.plot(x_value,regress_values,\"r-\")\n",
    "plt.annotate(line_eq,(15,10),fontsize=15,color=\"red\")\n",
    "plt.xlabel(\"Wind Speed (mph)\")\n",
    "plt.ylabel(\"Latitude\")\n",
    "plt.savefig(f\"Northern_Hemi_Wind Speed _vs_Latitude.png\")\n",
    "    "
   ]
  },
  {
   "cell_type": "markdown",
   "metadata": {},
   "source": [
    "####  Southern Hemisphere - Wind Speed (mph) vs. Latitude Linear Regression"
   ]
  },
  {
   "cell_type": "code",
   "execution_count": 34,
   "metadata": {},
   "outputs": [
    {
     "name": "stdout",
     "output_type": "stream",
     "text": [
      "The r-squared is: -0.24916160117686015\n"
     ]
    },
    {
     "data": {
      "image/png": "[encoded data removed]",
      "text/plain": [
       "<Figure size 432x288 with 1 Axes>"
      ]
     },
     "metadata": {
      "needs_background": "light"
     },
     "output_type": "display_data"
    }
   ],
   "source": [
    "x_value=(southern[\"Wind Speed\"])\n",
    "y_value=southern[\"Latitude\"]\n",
    "(slope, intercept, rvalue, pvalue, stderr) = linregress(x_value,y_value)\n",
    "print(f\"The r-squared is: {rvalue}\")\n",
    "regress_values = x_value * slope + intercept\n",
    "line_eq = \"y = \" + str(round(slope,2)) + \"x + \" + str(round(intercept,2))\n",
    "\n",
    "plt.scatter(x_value,y_value)\n",
    "plt.plot(x_value,regress_values,\"r-\")\n",
    "plt.annotate(line_eq,(8,-50),fontsize=15,color=\"red\")\n",
    "plt.xlabel(\"Wind Speed (mph)\")\n",
    "plt.ylabel(\"Latitude\")\n",
    "plt.savefig(f\"southern_Hemi_Wind Speed _vs_Latitude.png\")\n",
    "    "
   ]
  },
  {
   "cell_type": "code",
   "execution_count": null,
   "metadata": {},
   "outputs": [],
   "source": []
  }
 ],
 "metadata": {
  "anaconda-cloud": {},
  "kernel_info": {
   "name": "python3"
  },
  "kernelspec": {
   "display_name": "Python 3",
   "language": "python",
   "name": "python3"
  },
  "language_info": {
   "codemirror_mode": {
    "name": "ipython",
    "version": 3
   },
   "file_extension": ".py",
   "mimetype": "text/x-python",
   "name": "python",
   "nbconvert_exporter": "python",
   "pygments_lexer": "ipython3",
   "version": "3.8.3"
  },
  "latex_envs": {
   "LaTeX_envs_menu_present": true,
   "autoclose": false,
   "autocomplete": true,
   "bibliofile": "biblio.bib",
   "cite_by": "apalike",
   "current_citInitial": 1,
   "eqLabelWithNumbers": true,
   "eqNumInitial": 1,
   "hotkeys": {
    "equation": "Ctrl-E",
    "itemize": "Ctrl-I"
   },
   "labels_anchors": false,
   "latex_user_defs": false,
   "report_style_numbering": false,
   "user_envs_cfg": false
  },
  "nteract": {
   "version": "0.12.3"
  }
 },
 "nbformat": 4,
 "nbformat_minor": 2
}
